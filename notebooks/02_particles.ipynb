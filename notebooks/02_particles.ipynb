{
 "cells": [
  {
   "cell_type": "markdown",
   "metadata": {},
   "source": [
    "# How to create particles?"
   ]
  },
  {
   "cell_type": "markdown",
   "metadata": {},
   "source": [
    "[Vyacheslav Fedorov](http://fuodorov.github.io)"
   ]
  },
  {
   "cell_type": "markdown",
   "metadata": {},
   "source": [
    "## Introduction"
   ]
  },
  {
   "cell_type": "markdown",
   "metadata": {},
   "source": [
    "## Algorithm"
   ]
  },
  {
   "cell_type": "code",
   "execution_count": 16,
   "metadata": {},
   "outputs": [],
   "source": [
    "import random"
   ]
  },
  {
   "cell_type": "code",
   "execution_count": 26,
   "metadata": {},
   "outputs": [],
   "source": [
    "class Vector(list):\n",
    "    def __init__(self, *el):\n",
    "        for e in el:\n",
    "            self.append(e)\n",
    "\n",
    "    def __add__(self, other):\n",
    "        if type(other) is Vector:\n",
    "            assert len(self) == len(other), \"Error 0\"\n",
    "            r = Vector()\n",
    "            for i in range(len(self)):\n",
    "                r.append(self[i] + other[i])\n",
    "            return r\n",
    "        else:\n",
    "            other = Vector.emptyvec(lens=len(self), n=other)\n",
    "            return self + other\n",
    "\n",
    "    def __sub__(self, other):\n",
    "        if type(other) is Vector:\n",
    "            assert len(self) == len(other), \"Error 0\"\n",
    "            r = Vector()\n",
    "            for i in range(len(self)):\n",
    "                r.append(self[i] - other[i])\n",
    "            return r\n",
    "        else:\n",
    "            other = Vector.emptyvec(lens=len(self), n=other)\n",
    "            return self - other\n",
    "\n",
    "    def __mul__(self, other):\n",
    "        if type(other) is Vector:\n",
    "            assert len(self) == len(other), \"Error 0\"\n",
    "            r = Vector()\n",
    "            for i in range(len(self)):\n",
    "                r.append(self[i] * other[i])\n",
    "            return r\n",
    "        else:\n",
    "            other = Vector.emptyvec(lens=len(self), n=other)\n",
    "            return self * other\n",
    "\n",
    "    def __truediv__(self, other):\n",
    "        if type(other) is Vector:\n",
    "            assert len(self) == len(other), \"Error 0\"\n",
    "            r = Vector()\n",
    "            for i in range(len(self)):\n",
    "                r.append(self[i] / other[i])\n",
    "            return r\n",
    "        else:\n",
    "            other = Vector.emptyvec(lens=len(self), n=other)\n",
    "            return self / other\n",
    "\n",
    "    def __pow__(self, other):\n",
    "        if type(other) is Vector:\n",
    "            assert len(self) == len(other), \"Error 0\"\n",
    "            r = Vector()\n",
    "            for i in range(len(self)):\n",
    "                r.append(self[i] ** other[i])\n",
    "            return r\n",
    "        else:\n",
    "            other = Vector.emptyvec(lens=len(self), n=other)\n",
    "            return self ** other\n",
    "\n",
    "    def __mod__(self, other):\n",
    "        return sum((self - other) ** 2) ** 0.5\n",
    "\n",
    "    def mod(self):\n",
    "        return self % Vector.emptyvec(len(self))\n",
    "\n",
    "    def dim(self):\n",
    "        return len(self)\n",
    "    \n",
    "    def __str__(self):\n",
    "        if len(self) == 0:\n",
    "            return \"Empty\"\n",
    "        r = [str(i) for i in self]\n",
    "        return \"< \" + \" \".join(r) + \" >\"\n",
    "    \n",
    "    def _ipython_display_(self):\n",
    "        print(str(self))\n",
    "\n",
    "    @staticmethod\n",
    "    def emptyvec(lens=2, n=0):\n",
    "        return Vector(*[n for i in range(lens)])\n",
    "\n",
    "    @staticmethod\n",
    "    def randvec(dim):\n",
    "        return Vector(*[random.random() for i in range(dim)])"
   ]
  },
  {
   "cell_type": "code",
   "execution_count": 45,
   "metadata": {},
   "outputs": [],
   "source": [
    "class Point:\n",
    "    def __init__(self, coords, mass=1.0, q=1.0, speed=None, **properties):\n",
    "        self.coords = coords\n",
    "        if speed is None:\n",
    "            self.speed = Vector(*[0 for i in range(len(coords))])\n",
    "        else:\n",
    "            self.speed = speed\n",
    "        self.acc = Vector(*[0 for i in range(len(coords))])\n",
    "        self.mass = mass\n",
    "        self.__params__ = [\"coords\", \"speed\", \"acc\", \"q\"] + list(properties.keys())\n",
    "        self.q = q\n",
    "        for prop in properties:\n",
    "            setattr(self, prop, properties[prop])\n",
    "\n",
    "    def move(self, dt):\n",
    "        self.coords = self.coords + self.speed * dt\n",
    "\n",
    "    def accelerate(self, dt):\n",
    "        self.speed = self.speed + self.acc * dt\n",
    "\n",
    "    def accinc(self, force):\n",
    "        self.acc = self.acc + force / self.mass\n",
    "    \n",
    "    def clean_acc(self):\n",
    "        self.acc = self.acc * 0\n",
    "    \n",
    "    def __str__(self):\n",
    "        r = [\"Point {\"]\n",
    "        for p in self.__params__:\n",
    "            r.append(\"  \" + p + \" = \" + str(getattr(self, p)))\n",
    "        r += [\"}\"]\n",
    "        return \"\\n\".join(r)\n",
    "\n",
    "    def _ipython_display_(self):\n",
    "        print(str(self))"
   ]
  },
  {
   "cell_type": "code",
   "execution_count": 56,
   "metadata": {},
   "outputs": [
    {
     "name": "stdout",
     "output_type": "stream",
     "text": [
      "< 1 2 3 >\n"
     ]
    }
   ],
   "source": [
    "v = Vector(1,2,3)\n",
    "print(v)"
   ]
  },
  {
   "cell_type": "code",
   "execution_count": 47,
   "metadata": {},
   "outputs": [],
   "source": [
    "p = Point(v)               "
   ]
  },
  {
   "cell_type": "code",
   "execution_count": 48,
   "metadata": {},
   "outputs": [
    {
     "name": "stdout",
     "output_type": "stream",
     "text": [
      "Point {\n",
      "  coords = < 1 2 3 >\n",
      "  speed = < 0 0 0 >\n",
      "  acc = < 0 0 0 >\n",
      "  q = 1.0\n",
      "}\n"
     ]
    }
   ],
   "source": [
    "p"
   ]
  },
  {
   "cell_type": "code",
   "execution_count": 35,
   "metadata": {},
   "outputs": [],
   "source": [
    "from scipy.constants import elementary_charge"
   ]
  },
  {
   "cell_type": "code",
   "execution_count": 36,
   "metadata": {},
   "outputs": [
    {
     "data": {
      "text/plain": [
       "1.6021766208e-19"
      ]
     },
     "execution_count": 36,
     "metadata": {},
     "output_type": "execute_result"
    }
   ],
   "source": [
    "elementary_charge"
   ]
  },
  {
   "cell_type": "code",
   "execution_count": 37,
   "metadata": {},
   "outputs": [],
   "source": [
    "from scipy.constants import m_e"
   ]
  },
  {
   "cell_type": "code",
   "execution_count": 38,
   "metadata": {},
   "outputs": [
    {
     "data": {
      "text/plain": [
       "9.10938356e-31"
      ]
     },
     "execution_count": 38,
     "metadata": {},
     "output_type": "execute_result"
    }
   ],
   "source": [
    "m_e"
   ]
  },
  {
   "cell_type": "code",
   "execution_count": null,
   "metadata": {},
   "outputs": [],
   "source": []
  }
 ],
 "metadata": {
  "kernelspec": {
   "display_name": "Python 3",
   "language": "python",
   "name": "python3"
  },
  "language_info": {
   "codemirror_mode": {
    "name": "ipython",
    "version": 3
   },
   "file_extension": ".py",
   "mimetype": "text/x-python",
   "name": "python",
   "nbconvert_exporter": "python",
   "pygments_lexer": "ipython3",
   "version": "3.7.4"
  }
 },
 "nbformat": 4,
 "nbformat_minor": 1
}
